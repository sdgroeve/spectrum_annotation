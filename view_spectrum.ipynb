{
 "cells": [
  {
   "cell_type": "code",
   "execution_count": 36,
   "metadata": {},
   "outputs": [],
   "source": [
    "import sys\n",
    "import os\n",
    "import numpy as np"
   ]
  },
  {
   "cell_type": "code",
   "execution_count": 37,
   "metadata": {},
   "outputs": [],
   "source": [
    "os_type = \"linux\"\n",
    "#os_type = \"windows\""
   ]
  },
  {
   "cell_type": "code",
   "execution_count": 38,
   "metadata": {},
   "outputs": [],
   "source": [
    "if os_type == \"windows\":\n",
    "    import subprocess, linecache"
   ]
  },
  {
   "cell_type": "code",
   "execution_count": 39,
   "metadata": {},
   "outputs": [],
   "source": [
    "htmlpage = '''\n",
    "<!DOCTYPE HTML PUBLIC \"-//W3C//DTD HTML 4.01 Transitional//EN\" \"http://www.w3.org/TR/html4/loose.dtd\">\n",
    "<html>\n",
    " <head>\n",
    "    <meta http-equiv=\"Content-Type\" content=\"text/html; charset=utf-8\">\n",
    "    \n",
    "    <title>Lorikeet Spectrum Viewer</title>\n",
    "    \n",
    "    <!--[if IE]><script language=\"javascript\" type=\"text/javascript\" src=\"js/excanvas.min.js\"></script><![endif]-->\n",
    "    <script type=\"text/javascript\" src=\"http://ajax.googleapis.com/ajax/libs/jquery/1.4.2/jquery.min.js\"></script>\n",
    "    <script type=\"text/javascript\" src=\"http://ajax.googleapis.com/ajax/libs/jqueryui/1.8.4/jquery-ui.min.js\"></script>\n",
    "    <script type=\"text/javascript\" src=\"js/jquery.flot.js\"></script>\n",
    "    <script type=\"text/javascript\" src=\"js/jquery.flot.selection.js\"></script>\n",
    "    \n",
    "    <script type=\"text/javascript\" src=\"js/specview.js\"></script>\n",
    "    <script type=\"text/javascript\" src=\"js/peptide.js\"></script>\n",
    "    <script type=\"text/javascript\" src=\"js/aminoacid.js\"></script>\n",
    "    <script type=\"text/javascript\" src=\"js/ion.js\"></script>\n",
    "    \n",
    "    <link REL=\"stylesheet\" TYPE=\"text/css\" HREF=\"css/lorikeet.css\">\n",
    "    \n",
    "</head>\n",
    "\n",
    "<body>\n",
    "\n",
    "<h1>Lorikeet Plugin Example</h1>\n",
    "\n",
    "<!-- PLACE HOLDER DIV FOR THE SPECTRUM -->\n",
    "<div id=\"lorikeet1\"></div>\n",
    "\n",
    "<script type=\"text/javascript\">\n",
    "\n",
    "$(document).ready(function () {\n",
    "\n",
    "\t/* render the spectrum with the given options */\n",
    "\t$(\"#lorikeet1\").specview({sequence: sequence, \n",
    "\t\t\t\t\t\t\t\tcharge: charge,\n",
    "\t\t\t\t\t\t\t\tmassError: 0.02,\n",
    "\t\t\t\t\t\t\t\tprecursorMz: precursorMz,\n",
    "\t\t\t\t\t\t\t\tvariableMods: varMods, \n",
    "\t\t\t\t\t\t\t\tntermMod: ctermMod_,\n",
    "\t\t\t\t\t\t\t\tctermMod: ctermMod_,\n",
    "\t\t\t\t\t\t\t\tpeaks: peaks,\n",
    "                                massError : 20,\n",
    "                                massErrorUnit: \"ppm\",\n",
    "                                peakDetect: 0     \n",
    "\t\t\t\t\t\t\t\t});\t\n",
    "});\n",
    "\n",
    "'''"
   ]
  },
  {
   "cell_type": "code",
   "execution_count": 40,
   "metadata": {},
   "outputs": [],
   "source": [
    "# Parsing an MS2 spectrum (title) from an MGF file (mgf)\n",
    "# As spectrum files can be quite large, I use findstr to read the lines first\n",
    "# This only really speeds up things if the next query is on the same MGF file\n",
    "# TODO: We should think about how to optimize this for ionbot.cloud\n",
    "def get_spectrum(mgf, title):\n",
    "    #TODO: We might want to put this loading outside\n",
    "    command = \"grep -A 5000 %s %s > out\"%(title,mgf)\n",
    "    os.system(command)\n",
    "    charge = 0\n",
    "    spectrum = \"[\"\n",
    "    with open(\"out\") as f:\n",
    "        for c in f.readlines():\n",
    "            if c == \"\": \n",
    "                continue\n",
    "            if \"END IONS\" in c: break\n",
    "            if \"PEPMASS=\" in c:\n",
    "                parent_mz = c[8:]\n",
    "            if \"CHARGE\" in c:\n",
    "                charge = c[7:9].replace(\"+\",\"\")\n",
    "            if not \"=\" in c:\n",
    "                tmp = c.split(\" \")\n",
    "                spectrum += \"[%s,%s],\"%(tmp[0],tmp[1])\n",
    "    spectrum = spectrum[:-1]\n",
    "    spectrum += \"]\"\n",
    "    os.remove(\"out\")\n",
    "    return spectrum, charge, parent_mz\n",
    "\n",
    "def get_varmods(peptide, modifications):\n",
    "    mods = []\n",
    "    nterm_mod = \"0\"\n",
    "    cterm_mod = \"0\"\n",
    "    m = modifications.split(\"|\")\n",
    "    for i in range(0,len(m),2):\n",
    "        if m[i] == 0:\n",
    "            nterm_mod = m[i+1]\n",
    "        elif m[i] == -1:\n",
    "            cterm_mod = m[i+1]\n",
    "        else:\n",
    "            mods.append(\"{index: %i, modMass: %s, aminoAcid: '%s'}\"%(m[i],m[i+1],peptide[[i]-1]))\n",
    "    return mods, nterm_mod, cterm_mod\n",
    "\n",
    "def run_annotation(mgf_file,title,sequence,modifications):\n",
    "    spectrum, charge, parent_mz = get_spectrum(mgf_file, title)\n",
    "    if spectrum == \"]\":\n",
    "        print(\"spectrum not found\")\n",
    "\n",
    "    varmods_list = []\n",
    "    nterm_mod = \"0\"\n",
    "    cterm_mod = \"0\"\n",
    "    if modifications != \"\":\n",
    "        varmods_list, nterm_mod, cterm_mod = get_varmods(sequence, modifications)\n",
    "\n",
    "    with open(\"annotations/\" + sequence+title+'.html','w') as f:\n",
    "        f.write(htmlpage+'\\n')\n",
    "        f.write('var sequence = \"%s\";\\n'%sequence)\n",
    "        f.write('var peaks = %s;\\n'%spectrum)\n",
    "        f.write('var charge = %s;\\n'%charge)\n",
    "        #f.write('var precursorMz = %s;\\n'%parent_mz)\n",
    "        f.write('var precursorMz = 0;\\n')\n",
    "        f.write('var varMods = [];\\n')\n",
    "        for i,mod in enumerate(varmods_list):\n",
    "            f.write(\"varMods[%i] = %s\\n\"%(i,mod))\n",
    "        if nterm_mod != \"0\":\n",
    "            f.write(\"ntermMod_ = %s;\\n\"%(nterm_mod))\n",
    "        if cterm_mod != \"0\":\n",
    "            f.write(\"ctermMod_ = %s;\\n\"%(cterm_mod))\n",
    "        f.write('</script></body></html>\\n')\n",
    "    \n",
    "    print(\"Annotation written to annotations/{}.\".format(sequence+title+'.html'))\n"
   ]
  },
  {
   "cell_type": "markdown",
   "metadata": {},
   "source": [
    "# INPUT"
   ]
  },
  {
   "cell_type": "code",
   "execution_count": 41,
   "metadata": {},
   "outputs": [],
   "source": [
    "#Specifiy the path to the MGF spectrum file\n",
    "mgf_file \t\t= \"/home/compomics/extra_disk/data/PXD006675/mgf/20160901_QEp2_SoDo_SA_LC12-13_PV8-frac1.mgf\"\n",
    "\n",
    "#Specify the spectrum title\n",
    "#This should be a string that is in the title and uniquely selects it\n",
    "title\t= \"scan=5814\"\n",
    "\n",
    "#Specify the peptide sequence\n",
    "sequence = \"KYMDEINKR\"\n",
    "\n",
    "#Specify modifications\n",
    "#Each modification is formatted as P|D with P the position in the peptide and D the delta mass\n",
    "#Positions start with position 1, 0 is for N-term and -1 is for C-term modifications\n",
    "#Multiple modifications in a peptide are seprated with '|' (e.g. P|D|P|D)\n",
    "modifications = \"\"\n",
    "#modifications \t= \"3|15.9949\""
   ]
  },
  {
   "cell_type": "markdown",
   "metadata": {},
   "source": [
    "# OUTPUT"
   ]
  },
  {
   "cell_type": "code",
   "execution_count": 42,
   "metadata": {},
   "outputs": [
    {
     "name": "stdout",
     "output_type": "stream",
     "text": [
      "Annotation written to annotations/KYEDEINKRscan=5814.html.\n"
     ]
    }
   ],
   "source": [
    "run_annotation(mgf_file,title,sequence,modifications)"
   ]
  }
 ],
 "metadata": {
  "kernelspec": {
   "display_name": "Python 3 (ipykernel)",
   "language": "python",
   "name": "python3"
  },
  "language_info": {
   "codemirror_mode": {
    "name": "ipython",
    "version": 3
   },
   "file_extension": ".py",
   "mimetype": "text/x-python",
   "name": "python",
   "nbconvert_exporter": "python",
   "pygments_lexer": "ipython3",
   "version": "3.11.2"
  }
 },
 "nbformat": 4,
 "nbformat_minor": 4
}
